{
 "cells": [
  {
   "cell_type": "code",
   "execution_count": null,
   "id": "1b6e844c",
   "metadata": {},
   "outputs": [],
   "source": [
    "import pandas as pd\n",
    "df = pd.read_csv('website_data.csv')\n",
    "df.plot()"
   ]
  },
  {
   "cell_type": "code",
   "execution_count": null,
   "id": "00f2a76a",
   "metadata": {},
   "outputs": [],
   "source": [
    "import numpy as np\n",
    "df = np.log(df) # don't forget to transform the data back when making real predictions\n",
    "df.plot()"
   ]
  },
  {
   "cell_type": "code",
   "execution_count": null,
   "id": "eb178e96",
   "metadata": {},
   "outputs": [],
   "source": [
    "msk = (df.index < len(df)-30)\n",
    "df_train = df[msk].copy()\n",
    "df_test = df[~msk].copy()"
   ]
  },
  {
   "cell_type": "code",
   "execution_count": null,
   "id": "4c7ed6e8",
   "metadata": {},
   "outputs": [],
   "source": [
    "from statsmodels.graphics.tsaplots import plot_acf, plot_pacf\n",
    "acf_original = plot_acf(df_train)\n",
    "pacf_original = plot_pacf(df_train)"
   ]
  },
  {
   "cell_type": "code",
   "execution_count": null,
   "id": "7bd09697",
   "metadata": {},
   "outputs": [],
   "source": [
    "from statsmodels.tsa.stattools import adfuller\n",
    "adf_test = adfuller(df_train)\n",
    "print(f'p-value: {adf_test[1]}')"
   ]
  },
  {
   "cell_type": "code",
   "execution_count": null,
   "id": "52225a11",
   "metadata": {},
   "outputs": [],
   "source": [
    "df_train_diff = df_train.diff().dropna()\n",
    "df_train_diff.plot()"
   ]
  },
  {
   "cell_type": "code",
   "execution_count": null,
   "id": "9de976cd",
   "metadata": {},
   "outputs": [],
   "source": [
    "acf_diff = plot_acf(df_train_diff)\n",
    "pacf_diff = plot_pacf(df_train_diff)"
   ]
  },
  {
   "cell_type": "code",
   "execution_count": null,
   "id": "7a25ba8a",
   "metadata": {},
   "outputs": [],
   "source": [
    "adf_test = adfuller(df_train_diff)\n",
    "print(f'p-value: {adf_test[1]}')"
   ]
  },
  {
   "cell_type": "code",
   "execution_count": null,
   "id": "d9dd440f",
   "metadata": {},
   "outputs": [],
   "source": [
    "from statsmodels.tsa.arima.model import ARIMA\n",
    "model = ARIMA(df_train, order=(2,1,0))\n",
    "model_fit = model.fit()\n",
    "print(model_fit.summary())"
   ]
  },
  {
   "cell_type": "code",
   "execution_count": null,
   "id": "cafc56cc",
   "metadata": {},
   "outputs": [],
   "source": [
    "import matplotlib.pyplot as plt\n",
    "residuals = model_fit.resid[1:]\n",
    "fig, ax = plt.subplots(1,2)\n",
    "residuals.plot(title='Residuals', ax=ax[0])\n",
    "residuals.plot(title='Density', kind='kde', ax=ax[1])\n",
    "plt.show()"
   ]
  },
  {
   "cell_type": "code",
   "execution_count": null,
   "id": "e0271d25",
   "metadata": {},
   "outputs": [],
   "source": [
    "acf_res = plot_acf(residuals)\n",
    "pacf_res = plot_pacf(residuals)"
   ]
  },
  {
   "cell_type": "code",
   "execution_count": null,
   "id": "e5240b23",
   "metadata": {},
   "outputs": [],
   "source": [
    "forecast_test = model_fit.forecast(len(df_test))\n",
    "df['forecast_manual'] = [None]*len(df_train) + list(forecast_test)\n",
    "df.plot()"
   ]
  }
 ],
 "metadata": {
  "kernelspec": {
   "display_name": "Python 3 (ipykernel)",
   "language": "python",
   "name": "python3"
  },
  "language_info": {
   "codemirror_mode": {
    "name": "ipython",
    "version": 3
   },
   "file_extension": ".py",
   "mimetype": "text/x-python",
   "name": "python",
   "nbconvert_exporter": "python",
   "pygments_lexer": "ipython3",
   "version": "3.10.9"
  }
 },
 "nbformat": 4,
 "nbformat_minor": 5
}
