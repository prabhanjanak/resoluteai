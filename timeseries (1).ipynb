{
  "nbformat": 4,
  "nbformat_minor": 0,
  "metadata": {
    "colab": {
      "provenance": []
    },
    "kernelspec": {
      "name": "python3",
      "display_name": "Python 3"
    },
    "language_info": {
      "name": "python"
    },
    "gpuClass": "standard"
  },
  "cells": [
    {
      "cell_type": "code",
      "execution_count": null,
      "metadata": {
        "id": "RXcsJ1oblDV8"
      },
      "outputs": [],
      "source": [
        "import tensorflow as tf\n",
        "import numpy as np\n",
        "import os\n",
        "import matplotlib as plt"
      ]
    },
    {
      "cell_type": "code",
      "source": [
        "def get_data():\n",
        "  data_file = \"./station.csv\"\n",
        "  f = open(data_file)\n",
        "  data = f.read()\n",
        "  f.close()\n",
        "  lines = data.split('\\n')\n",
        "  header = lines[0].split(',')\n",
        "  lines = lines[2:]\n",
        "  temperatures=[]\n",
        "  for line in lines:\n",
        "    if line:\n",
        "      linedata = line.split(',')\n",
        "      linedata = linedata[1:13]\n",
        "      for item in linedata:\n",
        "        if item:\n",
        "          temperatures.append(float(item))\n",
        "  series = np.asarray(temperatures)\n",
        "  time = np.arange(len(temperatures), dtype=\"float32\")\n",
        "  return time, series"
      ],
      "metadata": {
        "id": "MXV4pwVLpVg3"
      },
      "execution_count": null,
      "outputs": []
    },
    {
      "cell_type": "code",
      "source": [
        "time, series = get_data()"
      ],
      "metadata": {
        "id": "70vtRA6gqXza"
      },
      "execution_count": null,
      "outputs": []
    },
    {
      "cell_type": "code",
      "source": [
        "out = np.logical_not(series > 200)\n",
        "series=series[out]\n",
        "time=time[out]"
      ],
      "metadata": {
        "id": "2kNMHkkqYGv4"
      },
      "execution_count": null,
      "outputs": []
    },
    {
      "cell_type": "code",
      "source": [
        "len(series)"
      ],
      "metadata": {
        "colab": {
          "base_uri": "https://localhost:8080/"
        },
        "id": "KjvpWj3Nq-5W",
        "outputId": "a1f08ac9-3eb9-4f30-fcfe-de4855cb78c2"
      },
      "execution_count": null,
      "outputs": [
        {
          "output_type": "execute_result",
          "data": {
            "text/plain": [
              "586"
            ]
          },
          "metadata": {},
          "execution_count": 6
        }
      ]
    },
    {
      "cell_type": "code",
      "source": [
        "mean = series.mean(axis=0)\n",
        "series-=mean\n",
        "std = series.std(axis=0)\n",
        "series/=std"
      ],
      "metadata": {
        "id": "6x3i1uvzsB8i"
      },
      "execution_count": null,
      "outputs": []
    },
    {
      "cell_type": "code",
      "source": [
        "#device_name = tf.test.gpu_device_name()"
      ],
      "metadata": {
        "id": "EuAv2tUvuXt-"
      },
      "execution_count": null,
      "outputs": []
    },
    {
      "cell_type": "code",
      "source": [
        "split_time = 390\n",
        "time_train = time[:split_time]\n",
        "x_train = series[:split_time]\n",
        "time_valid = time[split_time:]\n",
        "x_valid = series[split_time:]"
      ],
      "metadata": {
        "id": "xzcH5rGJuyu7"
      },
      "execution_count": null,
      "outputs": []
    },
    {
      "cell_type": "code",
      "source": [
        "window_size = 48\n",
        "batch_size = 12\n",
        "shuffle_buffer_size = 96"
      ],
      "metadata": {
        "id": "QbcwopqA0rTf"
      },
      "execution_count": null,
      "outputs": []
    },
    {
      "cell_type": "code",
      "source": [
        "def windowed_dataset(series, window_size,\n",
        "batch_size, shuffle_buffer):\n",
        "  series = tf.expand_dims(series, axis=-1)\n",
        "  dataset = tf.data.Dataset.from_tensor_slices(series)\n",
        "  dataset = dataset.window(window_size + 1, shift=1,\n",
        "  drop_remainder=True)\n",
        "  dataset = dataset.flat_map(lambda window:window.batch(window_size + 1))\n",
        "  dataset = dataset.shuffle(shuffle_buffer).map(lambda window:(window[:-1], window[-1]))\n",
        "  dataset = dataset.batch(batch_size).prefetch(1)\n",
        "  return dataset"
      ],
      "metadata": {
        "id": "C4Xb8LbI14IN"
      },
      "execution_count": null,
      "outputs": []
    },
    {
      "cell_type": "code",
      "source": [
        "dataset = windowed_dataset(x_train, window_size, batch_size, shuffle_buffer_size)"
      ],
      "metadata": {
        "id": "snIuU0xF2Hql"
      },
      "execution_count": null,
      "outputs": []
    },
    {
      "cell_type": "code",
      "source": [
        "valid_dataset = windowed_dataset(x_valid, window_size, batch_size, shuffle_buffer_size)"
      ],
      "metadata": {
        "id": "WQdbJu3e27DX"
      },
      "execution_count": null,
      "outputs": []
    },
    {
      "cell_type": "code",
      "source": [
        "initializer=tf.keras.initializers.RandomNormal(mean=0., stddev=1.)"
      ],
      "metadata": {
        "id": "7n-PzlO5DlQb"
      },
      "execution_count": null,
      "outputs": []
    },
    {
      "cell_type": "code",
      "source": [
        "def model_forecast(model, series, window_size):\n",
        "  series = tf.expand_dims(series, axis=-1)\n",
        "  ds = tf.data.Dataset.from_tensor_slices(series)\n",
        "  ds = ds.window(window_size, shift=1, drop_remainder=True)\n",
        "  ds = ds.flat_map(lambda w: w.batch(window_size))\n",
        "  ds = ds.batch(12).prefetch(1)\n",
        "  forecast = model.predict(ds)\n",
        "  return forecast"
      ],
      "metadata": {
        "id": "1xMegkn7BbjB"
      },
      "execution_count": null,
      "outputs": []
    },
    {
      "cell_type": "code",
      "source": [
        "model = tf.keras.models.Sequential([\n",
        "tf.keras.layers.GRU(100, input_shape=[None, 1], return_sequences=True, kernel_initializer=initializer),\n",
        "tf.keras.layers.GRU(units=100, kernel_initializer=initializer),\n",
        "tf.keras.layers.Dense(1),\n",
        "])\n",
        "model.compile(loss=tf.keras.losses.Huber(), optimizer=tf.keras.optimizers.SGD(learning_rate = 1.5e-6, momentum = 0.5),\n",
        "              metrics=['mae'])"
      ],
      "metadata": {
        "id": "Svkpfw6X-UhE"
      },
      "execution_count": null,
      "outputs": []
    },
    {
      "cell_type": "code",
      "source": [
        "history = model.fit(dataset, epochs=100, verbose=1, validation_data=valid_dataset)"
      ],
      "metadata": {
        "colab": {
          "base_uri": "https://localhost:8080/"
        },
        "id": "oBHTAOCc_roR",
        "outputId": "ef656ab7-b0a0-4664-f9c6-3b21075a2f57"
      },
      "execution_count": null,
      "outputs": [
        {
          "output_type": "stream",
          "name": "stdout",
          "text": [
            "Epoch 1/100\n",
            "29/29 [==============================] - 9s 47ms/step - loss: 0.7269 - mae: 1.1381 - val_loss: 0.5932 - val_mae: 0.9803\n",
            "Epoch 2/100\n",
            "29/29 [==============================] - 0s 13ms/step - loss: 0.7261 - mae: 1.1372 - val_loss: 0.5927 - val_mae: 0.9796\n",
            "Epoch 3/100\n",
            "29/29 [==============================] - 0s 12ms/step - loss: 0.7252 - mae: 1.1362 - val_loss: 0.5921 - val_mae: 0.9789\n",
            "Epoch 4/100\n",
            "29/29 [==============================] - 0s 12ms/step - loss: 0.7244 - mae: 1.1353 - val_loss: 0.5916 - val_mae: 0.9783\n",
            "Epoch 5/100\n",
            "29/29 [==============================] - 0s 12ms/step - loss: 0.7236 - mae: 1.1344 - val_loss: 0.5910 - val_mae: 0.9776\n",
            "Epoch 6/100\n",
            "29/29 [==============================] - 0s 11ms/step - loss: 0.7228 - mae: 1.1335 - val_loss: 0.5905 - val_mae: 0.9769\n",
            "Epoch 7/100\n",
            "29/29 [==============================] - 0s 12ms/step - loss: 0.7220 - mae: 1.1326 - val_loss: 0.5899 - val_mae: 0.9763\n",
            "Epoch 8/100\n",
            "29/29 [==============================] - 0s 13ms/step - loss: 0.7212 - mae: 1.1317 - val_loss: 0.5893 - val_mae: 0.9756\n",
            "Epoch 9/100\n",
            "29/29 [==============================] - 0s 12ms/step - loss: 0.7204 - mae: 1.1308 - val_loss: 0.5888 - val_mae: 0.9749\n",
            "Epoch 10/100\n",
            "29/29 [==============================] - 0s 13ms/step - loss: 0.7195 - mae: 1.1299 - val_loss: 0.5882 - val_mae: 0.9743\n",
            "Epoch 11/100\n",
            "29/29 [==============================] - 0s 12ms/step - loss: 0.7187 - mae: 1.1290 - val_loss: 0.5877 - val_mae: 0.9736\n",
            "Epoch 12/100\n",
            "29/29 [==============================] - 0s 12ms/step - loss: 0.7179 - mae: 1.1281 - val_loss: 0.5871 - val_mae: 0.9729\n",
            "Epoch 13/100\n",
            "29/29 [==============================] - 0s 12ms/step - loss: 0.7171 - mae: 1.1272 - val_loss: 0.5866 - val_mae: 0.9723\n",
            "Epoch 14/100\n",
            "29/29 [==============================] - 0s 12ms/step - loss: 0.7163 - mae: 1.1262 - val_loss: 0.5860 - val_mae: 0.9716\n",
            "Epoch 15/100\n",
            "29/29 [==============================] - 0s 15ms/step - loss: 0.7155 - mae: 1.1254 - val_loss: 0.5855 - val_mae: 0.9710\n",
            "Epoch 16/100\n",
            "29/29 [==============================] - 0s 12ms/step - loss: 0.7147 - mae: 1.1245 - val_loss: 0.5850 - val_mae: 0.9703\n",
            "Epoch 17/100\n",
            "29/29 [==============================] - 0s 12ms/step - loss: 0.7139 - mae: 1.1235 - val_loss: 0.5844 - val_mae: 0.9696\n",
            "Epoch 18/100\n",
            "29/29 [==============================] - 0s 12ms/step - loss: 0.7131 - mae: 1.1226 - val_loss: 0.5839 - val_mae: 0.9690\n",
            "Epoch 19/100\n",
            "29/29 [==============================] - 0s 12ms/step - loss: 0.7123 - mae: 1.1217 - val_loss: 0.5833 - val_mae: 0.9683\n",
            "Epoch 20/100\n",
            "29/29 [==============================] - 0s 12ms/step - loss: 0.7115 - mae: 1.1208 - val_loss: 0.5828 - val_mae: 0.9676\n",
            "Epoch 21/100\n",
            "29/29 [==============================] - 0s 12ms/step - loss: 0.7107 - mae: 1.1199 - val_loss: 0.5822 - val_mae: 0.9670\n",
            "Epoch 22/100\n",
            "29/29 [==============================] - 0s 12ms/step - loss: 0.7099 - mae: 1.1190 - val_loss: 0.5817 - val_mae: 0.9663\n",
            "Epoch 23/100\n",
            "29/29 [==============================] - 0s 12ms/step - loss: 0.7091 - mae: 1.1181 - val_loss: 0.5811 - val_mae: 0.9656\n",
            "Epoch 24/100\n",
            "29/29 [==============================] - 0s 11ms/step - loss: 0.7083 - mae: 1.1172 - val_loss: 0.5806 - val_mae: 0.9650\n",
            "Epoch 25/100\n",
            "29/29 [==============================] - 0s 12ms/step - loss: 0.7075 - mae: 1.1164 - val_loss: 0.5801 - val_mae: 0.9643\n",
            "Epoch 26/100\n",
            "29/29 [==============================] - 0s 12ms/step - loss: 0.7067 - mae: 1.1155 - val_loss: 0.5795 - val_mae: 0.9637\n",
            "Epoch 27/100\n",
            "29/29 [==============================] - 0s 12ms/step - loss: 0.7059 - mae: 1.1146 - val_loss: 0.5790 - val_mae: 0.9630\n",
            "Epoch 28/100\n",
            "29/29 [==============================] - 0s 12ms/step - loss: 0.7051 - mae: 1.1137 - val_loss: 0.5784 - val_mae: 0.9623\n",
            "Epoch 29/100\n",
            "29/29 [==============================] - 0s 11ms/step - loss: 0.7043 - mae: 1.1128 - val_loss: 0.5779 - val_mae: 0.9617\n",
            "Epoch 30/100\n",
            "29/29 [==============================] - 0s 12ms/step - loss: 0.7035 - mae: 1.1119 - val_loss: 0.5774 - val_mae: 0.9610\n",
            "Epoch 31/100\n",
            "29/29 [==============================] - 0s 12ms/step - loss: 0.7027 - mae: 1.1111 - val_loss: 0.5768 - val_mae: 0.9604\n",
            "Epoch 32/100\n",
            "29/29 [==============================] - 0s 12ms/step - loss: 0.7020 - mae: 1.1102 - val_loss: 0.5763 - val_mae: 0.9597\n",
            "Epoch 33/100\n",
            "29/29 [==============================] - 0s 12ms/step - loss: 0.7012 - mae: 1.1093 - val_loss: 0.5758 - val_mae: 0.9591\n",
            "Epoch 34/100\n",
            "29/29 [==============================] - 0s 12ms/step - loss: 0.7004 - mae: 1.1084 - val_loss: 0.5752 - val_mae: 0.9584\n",
            "Epoch 35/100\n",
            "29/29 [==============================] - 0s 12ms/step - loss: 0.6996 - mae: 1.1075 - val_loss: 0.5747 - val_mae: 0.9578\n",
            "Epoch 36/100\n",
            "29/29 [==============================] - 0s 12ms/step - loss: 0.6988 - mae: 1.1067 - val_loss: 0.5742 - val_mae: 0.9571\n",
            "Epoch 37/100\n",
            "29/29 [==============================] - 0s 12ms/step - loss: 0.6980 - mae: 1.1058 - val_loss: 0.5737 - val_mae: 0.9565\n",
            "Epoch 38/100\n",
            "29/29 [==============================] - 0s 12ms/step - loss: 0.6973 - mae: 1.1049 - val_loss: 0.5731 - val_mae: 0.9558\n",
            "Epoch 39/100\n",
            "29/29 [==============================] - 0s 12ms/step - loss: 0.6965 - mae: 1.1041 - val_loss: 0.5726 - val_mae: 0.9552\n",
            "Epoch 40/100\n",
            "29/29 [==============================] - 0s 12ms/step - loss: 0.6957 - mae: 1.1032 - val_loss: 0.5721 - val_mae: 0.9545\n",
            "Epoch 41/100\n",
            "29/29 [==============================] - 0s 12ms/step - loss: 0.6950 - mae: 1.1023 - val_loss: 0.5716 - val_mae: 0.9539\n",
            "Epoch 42/100\n",
            "29/29 [==============================] - 0s 12ms/step - loss: 0.6942 - mae: 1.1015 - val_loss: 0.5711 - val_mae: 0.9532\n",
            "Epoch 43/100\n",
            "29/29 [==============================] - 0s 13ms/step - loss: 0.6934 - mae: 1.1006 - val_loss: 0.5705 - val_mae: 0.9526\n",
            "Epoch 44/100\n",
            "29/29 [==============================] - 0s 12ms/step - loss: 0.6926 - mae: 1.0998 - val_loss: 0.5700 - val_mae: 0.9520\n",
            "Epoch 45/100\n",
            "29/29 [==============================] - 0s 12ms/step - loss: 0.6919 - mae: 1.0989 - val_loss: 0.5695 - val_mae: 0.9513\n",
            "Epoch 46/100\n",
            "29/29 [==============================] - 0s 12ms/step - loss: 0.6911 - mae: 1.0980 - val_loss: 0.5690 - val_mae: 0.9507\n",
            "Epoch 47/100\n",
            "29/29 [==============================] - 0s 12ms/step - loss: 0.6903 - mae: 1.0971 - val_loss: 0.5685 - val_mae: 0.9501\n",
            "Epoch 48/100\n",
            "29/29 [==============================] - 0s 14ms/step - loss: 0.6896 - mae: 1.0963 - val_loss: 0.5680 - val_mae: 0.9494\n",
            "Epoch 49/100\n",
            "29/29 [==============================] - 0s 15ms/step - loss: 0.6888 - mae: 1.0954 - val_loss: 0.5674 - val_mae: 0.9488\n",
            "Epoch 50/100\n",
            "29/29 [==============================] - 1s 19ms/step - loss: 0.6880 - mae: 1.0945 - val_loss: 0.5669 - val_mae: 0.9482\n",
            "Epoch 51/100\n",
            "29/29 [==============================] - 0s 15ms/step - loss: 0.6873 - mae: 1.0937 - val_loss: 0.5664 - val_mae: 0.9476\n",
            "Epoch 52/100\n",
            "29/29 [==============================] - 1s 16ms/step - loss: 0.6865 - mae: 1.0929 - val_loss: 0.5659 - val_mae: 0.9469\n",
            "Epoch 53/100\n",
            "29/29 [==============================] - 0s 12ms/step - loss: 0.6858 - mae: 1.0920 - val_loss: 0.5654 - val_mae: 0.9463\n",
            "Epoch 54/100\n",
            "29/29 [==============================] - 0s 12ms/step - loss: 0.6850 - mae: 1.0912 - val_loss: 0.5649 - val_mae: 0.9457\n",
            "Epoch 55/100\n",
            "29/29 [==============================] - 0s 12ms/step - loss: 0.6843 - mae: 1.0903 - val_loss: 0.5644 - val_mae: 0.9451\n",
            "Epoch 56/100\n",
            "29/29 [==============================] - 0s 12ms/step - loss: 0.6835 - mae: 1.0895 - val_loss: 0.5639 - val_mae: 0.9445\n",
            "Epoch 57/100\n",
            "29/29 [==============================] - 0s 12ms/step - loss: 0.6828 - mae: 1.0886 - val_loss: 0.5634 - val_mae: 0.9439\n",
            "Epoch 58/100\n",
            "29/29 [==============================] - 0s 12ms/step - loss: 0.6820 - mae: 1.0878 - val_loss: 0.5629 - val_mae: 0.9433\n",
            "Epoch 59/100\n",
            "29/29 [==============================] - 0s 12ms/step - loss: 0.6812 - mae: 1.0869 - val_loss: 0.5624 - val_mae: 0.9427\n",
            "Epoch 60/100\n",
            "29/29 [==============================] - 0s 12ms/step - loss: 0.6805 - mae: 1.0861 - val_loss: 0.5619 - val_mae: 0.9421\n",
            "Epoch 61/100\n",
            "29/29 [==============================] - 0s 12ms/step - loss: 0.6798 - mae: 1.0853 - val_loss: 0.5614 - val_mae: 0.9415\n",
            "Epoch 62/100\n",
            "29/29 [==============================] - 0s 12ms/step - loss: 0.6790 - mae: 1.0844 - val_loss: 0.5609 - val_mae: 0.9409\n",
            "Epoch 63/100\n",
            "29/29 [==============================] - 0s 12ms/step - loss: 0.6783 - mae: 1.0836 - val_loss: 0.5604 - val_mae: 0.9403\n",
            "Epoch 64/100\n",
            "29/29 [==============================] - 0s 12ms/step - loss: 0.6775 - mae: 1.0827 - val_loss: 0.5599 - val_mae: 0.9397\n",
            "Epoch 65/100\n",
            "29/29 [==============================] - 0s 11ms/step - loss: 0.6768 - mae: 1.0819 - val_loss: 0.5594 - val_mae: 0.9391\n",
            "Epoch 66/100\n",
            "29/29 [==============================] - 0s 11ms/step - loss: 0.6760 - mae: 1.0811 - val_loss: 0.5589 - val_mae: 0.9385\n",
            "Epoch 67/100\n",
            "29/29 [==============================] - 0s 12ms/step - loss: 0.6753 - mae: 1.0802 - val_loss: 0.5584 - val_mae: 0.9379\n",
            "Epoch 68/100\n",
            "29/29 [==============================] - 0s 12ms/step - loss: 0.6746 - mae: 1.0794 - val_loss: 0.5579 - val_mae: 0.9373\n",
            "Epoch 69/100\n",
            "29/29 [==============================] - 0s 12ms/step - loss: 0.6738 - mae: 1.0785 - val_loss: 0.5574 - val_mae: 0.9367\n",
            "Epoch 70/100\n",
            "29/29 [==============================] - 0s 12ms/step - loss: 0.6731 - mae: 1.0777 - val_loss: 0.5569 - val_mae: 0.9361\n",
            "Epoch 71/100\n",
            "29/29 [==============================] - 0s 12ms/step - loss: 0.6724 - mae: 1.0769 - val_loss: 0.5564 - val_mae: 0.9355\n",
            "Epoch 72/100\n",
            "29/29 [==============================] - 0s 12ms/step - loss: 0.6716 - mae: 1.0761 - val_loss: 0.5559 - val_mae: 0.9349\n",
            "Epoch 73/100\n",
            "29/29 [==============================] - 0s 12ms/step - loss: 0.6709 - mae: 1.0752 - val_loss: 0.5554 - val_mae: 0.9343\n",
            "Epoch 74/100\n",
            "29/29 [==============================] - 0s 13ms/step - loss: 0.6701 - mae: 1.0744 - val_loss: 0.5549 - val_mae: 0.9338\n",
            "Epoch 75/100\n",
            "29/29 [==============================] - 0s 12ms/step - loss: 0.6694 - mae: 1.0736 - val_loss: 0.5544 - val_mae: 0.9332\n",
            "Epoch 76/100\n",
            "29/29 [==============================] - 0s 12ms/step - loss: 0.6687 - mae: 1.0728 - val_loss: 0.5539 - val_mae: 0.9326\n",
            "Epoch 77/100\n",
            "29/29 [==============================] - 0s 12ms/step - loss: 0.6679 - mae: 1.0720 - val_loss: 0.5535 - val_mae: 0.9320\n",
            "Epoch 78/100\n",
            "29/29 [==============================] - 0s 12ms/step - loss: 0.6672 - mae: 1.0712 - val_loss: 0.5530 - val_mae: 0.9314\n",
            "Epoch 79/100\n",
            "29/29 [==============================] - 0s 13ms/step - loss: 0.6665 - mae: 1.0704 - val_loss: 0.5525 - val_mae: 0.9308\n",
            "Epoch 80/100\n",
            "29/29 [==============================] - 0s 12ms/step - loss: 0.6658 - mae: 1.0696 - val_loss: 0.5520 - val_mae: 0.9302\n",
            "Epoch 81/100\n",
            "29/29 [==============================] - 0s 12ms/step - loss: 0.6650 - mae: 1.0688 - val_loss: 0.5515 - val_mae: 0.9296\n",
            "Epoch 82/100\n",
            "29/29 [==============================] - 0s 12ms/step - loss: 0.6643 - mae: 1.0680 - val_loss: 0.5510 - val_mae: 0.9290\n",
            "Epoch 83/100\n",
            "29/29 [==============================] - 0s 12ms/step - loss: 0.6636 - mae: 1.0672 - val_loss: 0.5505 - val_mae: 0.9284\n",
            "Epoch 84/100\n",
            "29/29 [==============================] - 0s 12ms/step - loss: 0.6629 - mae: 1.0664 - val_loss: 0.5500 - val_mae: 0.9279\n",
            "Epoch 85/100\n",
            "29/29 [==============================] - 0s 13ms/step - loss: 0.6621 - mae: 1.0656 - val_loss: 0.5496 - val_mae: 0.9273\n",
            "Epoch 86/100\n",
            "29/29 [==============================] - 0s 13ms/step - loss: 0.6614 - mae: 1.0648 - val_loss: 0.5491 - val_mae: 0.9267\n",
            "Epoch 87/100\n",
            "29/29 [==============================] - 0s 13ms/step - loss: 0.6607 - mae: 1.0640 - val_loss: 0.5486 - val_mae: 0.9261\n",
            "Epoch 88/100\n",
            "29/29 [==============================] - 0s 12ms/step - loss: 0.6600 - mae: 1.0632 - val_loss: 0.5481 - val_mae: 0.9256\n",
            "Epoch 89/100\n",
            "29/29 [==============================] - 0s 12ms/step - loss: 0.6593 - mae: 1.0624 - val_loss: 0.5476 - val_mae: 0.9250\n",
            "Epoch 90/100\n",
            "29/29 [==============================] - 0s 12ms/step - loss: 0.6586 - mae: 1.0616 - val_loss: 0.5472 - val_mae: 0.9244\n",
            "Epoch 91/100\n",
            "29/29 [==============================] - 0s 12ms/step - loss: 0.6578 - mae: 1.0608 - val_loss: 0.5467 - val_mae: 0.9238\n",
            "Epoch 92/100\n",
            "29/29 [==============================] - 0s 12ms/step - loss: 0.6571 - mae: 1.0601 - val_loss: 0.5462 - val_mae: 0.9233\n",
            "Epoch 93/100\n",
            "29/29 [==============================] - 0s 12ms/step - loss: 0.6564 - mae: 1.0592 - val_loss: 0.5457 - val_mae: 0.9227\n",
            "Epoch 94/100\n",
            "29/29 [==============================] - 0s 12ms/step - loss: 0.6557 - mae: 1.0585 - val_loss: 0.5453 - val_mae: 0.9221\n",
            "Epoch 95/100\n",
            "29/29 [==============================] - 0s 12ms/step - loss: 0.6550 - mae: 1.0577 - val_loss: 0.5448 - val_mae: 0.9216\n",
            "Epoch 96/100\n",
            "29/29 [==============================] - 0s 12ms/step - loss: 0.6543 - mae: 1.0569 - val_loss: 0.5443 - val_mae: 0.9210\n",
            "Epoch 97/100\n",
            "29/29 [==============================] - 0s 12ms/step - loss: 0.6536 - mae: 1.0561 - val_loss: 0.5439 - val_mae: 0.9204\n",
            "Epoch 98/100\n",
            "29/29 [==============================] - 0s 13ms/step - loss: 0.6529 - mae: 1.0553 - val_loss: 0.5434 - val_mae: 0.9199\n",
            "Epoch 99/100\n",
            "29/29 [==============================] - 0s 13ms/step - loss: 0.6522 - mae: 1.0546 - val_loss: 0.5429 - val_mae: 0.9193\n",
            "Epoch 100/100\n",
            "29/29 [==============================] - 0s 12ms/step - loss: 0.6515 - mae: 1.0538 - val_loss: 0.5425 - val_mae: 0.9188\n"
          ]
        }
      ]
    },
    {
      "cell_type": "code",
      "source": [
        "forecast = model_forecast(model, series[..., np.newaxis], window_size)"
      ],
      "metadata": {
        "id": "D3SiPbcpCntN",
        "colab": {
          "base_uri": "https://localhost:8080/"
        },
        "outputId": "324b197f-b932-4cd5-e96e-0d12553ab54a"
      },
      "execution_count": null,
      "outputs": [
        {
          "output_type": "stream",
          "name": "stdout",
          "text": [
            "45/45 [==============================] - 2s 16ms/step\n"
          ]
        }
      ]
    },
    {
      "cell_type": "code",
      "source": [
        "forecast*=std\n",
        "forecast+=mean\n",
        "x_valid*=std\n",
        "x_valid+=mean"
      ],
      "metadata": {
        "id": "I3BitrvmO87X"
      },
      "execution_count": null,
      "outputs": []
    },
    {
      "cell_type": "code",
      "source": [
        "len(forecast)"
      ],
      "metadata": {
        "colab": {
          "base_uri": "https://localhost:8080/"
        },
        "id": "4tKyU0l7x3E7",
        "outputId": "f74f4550-2d78-4d0d-deb0-5fef0bb88d37"
      },
      "execution_count": null,
      "outputs": [
        {
          "output_type": "execute_result",
          "data": {
            "text/plain": [
              "196"
            ]
          },
          "metadata": {},
          "execution_count": 21
        }
      ]
    },
    {
      "cell_type": "code",
      "source": [
        "forecast = forecast[split_time-window_size+1:]"
      ],
      "metadata": {
        "id": "iYNg4MTyHeL2"
      },
      "execution_count": null,
      "outputs": []
    },
    {
      "cell_type": "code",
      "source": [
        "forecast[0]"
      ],
      "metadata": {
        "colab": {
          "base_uri": "https://localhost:8080/"
        },
        "id": "wG01fuwcAsJX",
        "outputId": "a414ab4d-e40f-47f7-ff07-038bf20f4b42"
      },
      "execution_count": null,
      "outputs": [
        {
          "output_type": "execute_result",
          "data": {
            "text/plain": [
              "array([28.645916], dtype=float32)"
            ]
          },
          "metadata": {},
          "execution_count": 32
        }
      ]
    },
    {
      "cell_type": "code",
      "source": [
        "results = np.array(forecast)[:, 0]"
      ],
      "metadata": {
        "id": "FlvJ3ME3HwLD"
      },
      "execution_count": null,
      "outputs": []
    },
    {
      "cell_type": "code",
      "source": [
        "def plot_series(time, series, format=\"-\", start=0, end=None):\n",
        "  plt.plot(time[start:end], series[start:end], format)\n",
        "  plt.xlabel(\"Time\")\n",
        "  plt.ylabel(\"Value\")\n",
        "  plt.grid(True)"
      ],
      "metadata": {
        "id": "kphkegodIOFN"
      },
      "execution_count": null,
      "outputs": []
    },
    {
      "cell_type": "code",
      "source": [
        "from matplotlib import pyplot as plt\n",
        "plt.figure(figsize=(10, 6))"
      ],
      "metadata": {
        "colab": {
          "base_uri": "https://localhost:8080/",
          "height": 52
        },
        "id": "funDcrcJJXJP",
        "outputId": "a6c4e361-485f-4b92-8a06-446a2c879bcd"
      },
      "execution_count": null,
      "outputs": [
        {
          "output_type": "execute_result",
          "data": {
            "text/plain": [
              "<Figure size 720x432 with 0 Axes>"
            ]
          },
          "metadata": {},
          "execution_count": 24
        },
        {
          "output_type": "display_data",
          "data": {
            "text/plain": [
              "<Figure size 720x432 with 0 Axes>"
            ]
          },
          "metadata": {}
        }
      ]
    },
    {
      "cell_type": "code",
      "source": [
        "plot_series(time_valid, x_valid)\n",
        "plot_series(time_valid, results)"
      ],
      "metadata": {
        "colab": {
          "base_uri": "https://localhost:8080/",
          "height": 279
        },
        "id": "DtEnfeWCKpSG",
        "outputId": "c346bc69-d2c7-41ba-ae98-07c17c9d2f2f"
      },
      "execution_count": null,
      "outputs": [
        {
          "output_type": "display_data",
          "data": {
            "text/plain": [
              "<Figure size 432x288 with 1 Axes>"
            ],
            "image/png": "[encoded data removed]"
          },
          "metadata": {
            "needs_background": "light"
          }
        }
      ]
    },
    {
      "cell_type": "code",
      "source": [
        "len(time_valid)"
      ],
      "metadata": {
        "colab": {
          "base_uri": "https://localhost:8080/"
        },
        "id": "a3Uti9zvLv_9",
        "outputId": "a5fb0928-a3f3-431e-e948-7dfd536fff0d"
      },
      "execution_count": null,
      "outputs": [
        {
          "output_type": "execute_result",
          "data": {
            "text/plain": [
              "196"
            ]
          },
          "metadata": {},
          "execution_count": 26
        }
      ]
    },
    {
      "cell_type": "code",
      "source": [
        "print(tf.keras.metrics.mean_squared_error(x_valid, results).numpy())\n",
        "print(tf.keras.metrics.mean_absolute_error(x_valid, results).numpy())"
      ],
      "metadata": {
        "id": "lXdZwpLzOOH4",
        "colab": {
          "base_uri": "https://localhost:8080/"
        },
        "outputId": "98034df8-07f6-455e-8779-117981d7cc3a"
      },
      "execution_count": null,
      "outputs": [
        {
          "output_type": "stream",
          "name": "stdout",
          "text": [
            "4.0881667\n",
            "1.6173879\n"
          ]
        }
      ]
    },
    {
      "cell_type": "code",
      "source": [
        "model.save('./drive/MyDrive/timeseries_tuned.h5')"
      ],
      "metadata": {
        "id": "fXA2gI0ezZZd"
      },
      "execution_count": null,
      "outputs": []
    },
    {
      "cell_type": "code",
      "source": [
        "model = tf.keras.models.load_model('./drive/MyDrive/timeseries_tuned.h5')"
      ],
      "metadata": {
        "id": "2a2fnsnu5FVV"
      },
      "execution_count": null,
      "outputs": []
    },
    {
      "cell_type": "code",
      "source": [
        "from google.colab import drive\n",
        "#drive.flush_and_unmount()\n",
        "drive.mount('/content/drive')"
      ],
      "metadata": {
        "colab": {
          "base_uri": "https://localhost:8080/"
        },
        "id": "L1Ply3ql3zWQ",
        "outputId": "3216959a-668f-4114-af42-966a2841d629"
      },
      "execution_count": null,
      "outputs": [
        {
          "output_type": "stream",
          "name": "stdout",
          "text": [
            "Mounted at /content/drive\n"
          ]
        }
      ]
    },
    {
      "cell_type": "markdown",
      "source": [],
      "metadata": {
        "id": "u_ItpNvf_Afw"
      }
    }
  ]
}